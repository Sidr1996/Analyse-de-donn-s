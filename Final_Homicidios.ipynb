{
 "cells": [
  {
   "cell_type": "markdown",
   "id": "4a75f97d",
   "metadata": {},
   "source": [
    "## Analyse de données sur les homicides en Équateur de l'année 2021 jusqu'au mois de septembre"
   ]
  },
  {
   "cell_type": "code",
   "execution_count": null,
   "id": "a5ddd722",
   "metadata": {},
   "outputs": [],
   "source": []
  },
  {
   "cell_type": "code",
   "execution_count": 268,
   "id": "28dc143e",
   "metadata": {},
   "outputs": [],
   "source": [
    "import numpy as np\n",
    "import pandas as pd\n",
    "import matplotlib.pyplot as plt\n",
    "import seaborn as sns"
   ]
  },
  {
   "cell_type": "code",
   "execution_count": 269,
   "id": "5855e372",
   "metadata": {},
   "outputs": [],
   "source": [
    "Homicidios=pd.read_excel(\"C:\\\\Users\\\\lenovo\\\\Desktop\\\\SAMUEL DIAZ\\\\DATOS NO ESTRUCTURADOS\\\\HOMICIDIOS.xlsx\",sheet_name=\"HOMICIDIOS INTENCIONALES\")"
   ]
  },
  {
   "cell_type": "code",
   "execution_count": 270,
   "id": "3d1e20e3",
   "metadata": {},
   "outputs": [
    {
     "data": {
      "text/html": [
       "<div>\n",
       "<style scoped>\n",
       "    .dataframe tbody tr th:only-of-type {\n",
       "        vertical-align: middle;\n",
       "    }\n",
       "\n",
       "    .dataframe tbody tr th {\n",
       "        vertical-align: top;\n",
       "    }\n",
       "\n",
       "    .dataframe thead th {\n",
       "        text-align: right;\n",
       "    }\n",
       "</style>\n",
       "<table border=\"1\" class=\"dataframe\">\n",
       "  <thead>\n",
       "    <tr style=\"text-align: right;\">\n",
       "      <th></th>\n",
       "      <th>Unnamed: 0</th>\n",
       "      <th>Unnamed: 1</th>\n",
       "      <th>Unnamed: 2</th>\n",
       "      <th>Unnamed: 3</th>\n",
       "      <th>Unnamed: 4</th>\n",
       "      <th>Unnamed: 5</th>\n",
       "      <th>Unnamed: 6</th>\n",
       "      <th>Unnamed: 7</th>\n",
       "      <th>Unnamed: 8</th>\n",
       "    </tr>\n",
       "  </thead>\n",
       "  <tbody>\n",
       "    <tr>\n",
       "      <th>0</th>\n",
       "      <td>HOMICIDIOS INTENCIONALES - SERIES HISTÓRICAS</td>\n",
       "      <td>NaN</td>\n",
       "      <td>NaN</td>\n",
       "      <td>NaN</td>\n",
       "      <td>NaN</td>\n",
       "      <td>NaN</td>\n",
       "      <td>NaN</td>\n",
       "      <td>NaN</td>\n",
       "      <td>NaN</td>\n",
       "    </tr>\n",
       "    <tr>\n",
       "      <th>1</th>\n",
       "      <td>NaN</td>\n",
       "      <td>NaN</td>\n",
       "      <td>NaN</td>\n",
       "      <td>NaN</td>\n",
       "      <td>NaN</td>\n",
       "      <td>NaN</td>\n",
       "      <td>NaN</td>\n",
       "      <td>NaN</td>\n",
       "      <td>NaN</td>\n",
       "    </tr>\n",
       "    <tr>\n",
       "      <th>2</th>\n",
       "      <td>TIPO DE MUERTE</td>\n",
       "      <td>PROVINCIA</td>\n",
       "      <td>CANTÓN</td>\n",
       "      <td>MES</td>\n",
       "      <td>AÑO</td>\n",
       "      <td>TIPO DE ARMA</td>\n",
       "      <td>RANGO DE EDAD</td>\n",
       "      <td>SEXO</td>\n",
       "      <td># HOMICIDIOS</td>\n",
       "    </tr>\n",
       "    <tr>\n",
       "      <th>3</th>\n",
       "      <td>NaN</td>\n",
       "      <td>NaN</td>\n",
       "      <td>NaN</td>\n",
       "      <td>NaN</td>\n",
       "      <td>NaN</td>\n",
       "      <td>NaN</td>\n",
       "      <td>NaN</td>\n",
       "      <td>NaN</td>\n",
       "      <td>NaN</td>\n",
       "    </tr>\n",
       "    <tr>\n",
       "      <th>4</th>\n",
       "      <td>FEMICIDIO</td>\n",
       "      <td>AZUAY</td>\n",
       "      <td>CAMILO PONCE ENRÍQUEZ</td>\n",
       "      <td>Ene</td>\n",
       "      <td>2021</td>\n",
       "      <td>ARMA CONTUNDENTE</td>\n",
       "      <td>25-29</td>\n",
       "      <td>NO DETERMINADO</td>\n",
       "      <td>1</td>\n",
       "    </tr>\n",
       "    <tr>\n",
       "      <th>5</th>\n",
       "      <td>ASESINATO</td>\n",
       "      <td>AZUAY</td>\n",
       "      <td>CUENCA</td>\n",
       "      <td>Ene</td>\n",
       "      <td>2021</td>\n",
       "      <td>ARMA DE FUEGO</td>\n",
       "      <td>30-34</td>\n",
       "      <td>NO DETERMINADO</td>\n",
       "      <td>1</td>\n",
       "    </tr>\n",
       "  </tbody>\n",
       "</table>\n",
       "</div>"
      ],
      "text/plain": [
       "                                     Unnamed: 0 Unnamed: 1  \\\n",
       "0  HOMICIDIOS INTENCIONALES - SERIES HISTÓRICAS        NaN   \n",
       "1                                           NaN        NaN   \n",
       "2                                TIPO DE MUERTE  PROVINCIA   \n",
       "3                                           NaN        NaN   \n",
       "4                                     FEMICIDIO      AZUAY   \n",
       "5                                     ASESINATO      AZUAY   \n",
       "\n",
       "              Unnamed: 2 Unnamed: 3 Unnamed: 4        Unnamed: 5  \\\n",
       "0                    NaN        NaN        NaN               NaN   \n",
       "1                    NaN        NaN        NaN               NaN   \n",
       "2                 CANTÓN        MES        AÑO      TIPO DE ARMA   \n",
       "3                    NaN        NaN        NaN               NaN   \n",
       "4  CAMILO PONCE ENRÍQUEZ        Ene       2021  ARMA CONTUNDENTE   \n",
       "5                 CUENCA        Ene       2021     ARMA DE FUEGO   \n",
       "\n",
       "      Unnamed: 6      Unnamed: 7    Unnamed: 8  \n",
       "0            NaN             NaN           NaN  \n",
       "1            NaN             NaN           NaN  \n",
       "2  RANGO DE EDAD            SEXO  # HOMICIDIOS  \n",
       "3            NaN             NaN           NaN  \n",
       "4          25-29  NO DETERMINADO             1  \n",
       "5          30-34  NO DETERMINADO             1  "
      ]
     },
     "execution_count": 270,
     "metadata": {},
     "output_type": "execute_result"
    }
   ],
   "source": [
    "Homicidios.head(6)"
   ]
  },
  {
   "cell_type": "code",
   "execution_count": 271,
   "id": "1f917e2a",
   "metadata": {},
   "outputs": [
    {
     "data": {
      "text/html": [
       "<div>\n",
       "<style scoped>\n",
       "    .dataframe tbody tr th:only-of-type {\n",
       "        vertical-align: middle;\n",
       "    }\n",
       "\n",
       "    .dataframe tbody tr th {\n",
       "        vertical-align: top;\n",
       "    }\n",
       "\n",
       "    .dataframe thead th {\n",
       "        text-align: right;\n",
       "    }\n",
       "</style>\n",
       "<table border=\"1\" class=\"dataframe\">\n",
       "  <thead>\n",
       "    <tr style=\"text-align: right;\">\n",
       "      <th></th>\n",
       "      <th>Unnamed: 0</th>\n",
       "      <th>Unnamed: 1</th>\n",
       "      <th>Unnamed: 2</th>\n",
       "      <th>Unnamed: 3</th>\n",
       "      <th>Unnamed: 4</th>\n",
       "      <th>Unnamed: 5</th>\n",
       "      <th>Unnamed: 6</th>\n",
       "      <th>Unnamed: 7</th>\n",
       "      <th>Unnamed: 8</th>\n",
       "    </tr>\n",
       "  </thead>\n",
       "  <tbody>\n",
       "    <tr>\n",
       "      <th>2</th>\n",
       "      <td>TIPO DE MUERTE</td>\n",
       "      <td>PROVINCIA</td>\n",
       "      <td>CANTÓN</td>\n",
       "      <td>MES</td>\n",
       "      <td>AÑO</td>\n",
       "      <td>TIPO DE ARMA</td>\n",
       "      <td>RANGO DE EDAD</td>\n",
       "      <td>SEXO</td>\n",
       "      <td># HOMICIDIOS</td>\n",
       "    </tr>\n",
       "    <tr>\n",
       "      <th>3</th>\n",
       "      <td>NaN</td>\n",
       "      <td>NaN</td>\n",
       "      <td>NaN</td>\n",
       "      <td>NaN</td>\n",
       "      <td>NaN</td>\n",
       "      <td>NaN</td>\n",
       "      <td>NaN</td>\n",
       "      <td>NaN</td>\n",
       "      <td>NaN</td>\n",
       "    </tr>\n",
       "    <tr>\n",
       "      <th>4</th>\n",
       "      <td>FEMICIDIO</td>\n",
       "      <td>AZUAY</td>\n",
       "      <td>CAMILO PONCE ENRÍQUEZ</td>\n",
       "      <td>Ene</td>\n",
       "      <td>2021</td>\n",
       "      <td>ARMA CONTUNDENTE</td>\n",
       "      <td>25-29</td>\n",
       "      <td>NO DETERMINADO</td>\n",
       "      <td>1</td>\n",
       "    </tr>\n",
       "    <tr>\n",
       "      <th>5</th>\n",
       "      <td>ASESINATO</td>\n",
       "      <td>AZUAY</td>\n",
       "      <td>CUENCA</td>\n",
       "      <td>Ene</td>\n",
       "      <td>2021</td>\n",
       "      <td>ARMA DE FUEGO</td>\n",
       "      <td>30-34</td>\n",
       "      <td>NO DETERMINADO</td>\n",
       "      <td>1</td>\n",
       "    </tr>\n",
       "    <tr>\n",
       "      <th>6</th>\n",
       "      <td>ASESINATO</td>\n",
       "      <td>AZUAY</td>\n",
       "      <td>SANTA ISABEL</td>\n",
       "      <td>Ene</td>\n",
       "      <td>2021</td>\n",
       "      <td>ARMA DE FUEGO</td>\n",
       "      <td>25-29</td>\n",
       "      <td>NO DETERMINADO</td>\n",
       "      <td>1</td>\n",
       "    </tr>\n",
       "  </tbody>\n",
       "</table>\n",
       "</div>"
      ],
      "text/plain": [
       "       Unnamed: 0 Unnamed: 1             Unnamed: 2 Unnamed: 3 Unnamed: 4  \\\n",
       "2  TIPO DE MUERTE  PROVINCIA                 CANTÓN        MES        AÑO   \n",
       "3             NaN        NaN                    NaN        NaN        NaN   \n",
       "4       FEMICIDIO      AZUAY  CAMILO PONCE ENRÍQUEZ        Ene       2021   \n",
       "5       ASESINATO      AZUAY                 CUENCA        Ene       2021   \n",
       "6       ASESINATO      AZUAY           SANTA ISABEL        Ene       2021   \n",
       "\n",
       "         Unnamed: 5     Unnamed: 6      Unnamed: 7    Unnamed: 8  \n",
       "2      TIPO DE ARMA  RANGO DE EDAD            SEXO  # HOMICIDIOS  \n",
       "3               NaN            NaN             NaN           NaN  \n",
       "4  ARMA CONTUNDENTE          25-29  NO DETERMINADO             1  \n",
       "5     ARMA DE FUEGO          30-34  NO DETERMINADO             1  \n",
       "6     ARMA DE FUEGO          25-29  NO DETERMINADO             1  "
      ]
     },
     "execution_count": 271,
     "metadata": {},
     "output_type": "execute_result"
    }
   ],
   "source": [
    "Homicidios=Homicidios.iloc[2: ,]\n",
    "Homicidios.head()"
   ]
  },
  {
   "cell_type": "code",
   "execution_count": 272,
   "id": "607049ff",
   "metadata": {},
   "outputs": [
    {
     "data": {
      "text/html": [
       "<div>\n",
       "<style scoped>\n",
       "    .dataframe tbody tr th:only-of-type {\n",
       "        vertical-align: middle;\n",
       "    }\n",
       "\n",
       "    .dataframe tbody tr th {\n",
       "        vertical-align: top;\n",
       "    }\n",
       "\n",
       "    .dataframe thead th {\n",
       "        text-align: right;\n",
       "    }\n",
       "</style>\n",
       "<table border=\"1\" class=\"dataframe\">\n",
       "  <thead>\n",
       "    <tr style=\"text-align: right;\">\n",
       "      <th>2</th>\n",
       "      <th>TIPO DE MUERTE</th>\n",
       "      <th>PROVINCIA</th>\n",
       "      <th>CANTÓN</th>\n",
       "      <th>MES</th>\n",
       "      <th>AÑO</th>\n",
       "      <th>TIPO DE ARMA</th>\n",
       "      <th>RANGO DE EDAD</th>\n",
       "      <th>SEXO</th>\n",
       "      <th># HOMICIDIOS</th>\n",
       "    </tr>\n",
       "  </thead>\n",
       "  <tbody>\n",
       "    <tr>\n",
       "      <th>2</th>\n",
       "      <td>TIPO DE MUERTE</td>\n",
       "      <td>PROVINCIA</td>\n",
       "      <td>CANTÓN</td>\n",
       "      <td>MES</td>\n",
       "      <td>AÑO</td>\n",
       "      <td>TIPO DE ARMA</td>\n",
       "      <td>RANGO DE EDAD</td>\n",
       "      <td>SEXO</td>\n",
       "      <td># HOMICIDIOS</td>\n",
       "    </tr>\n",
       "    <tr>\n",
       "      <th>3</th>\n",
       "      <td>NaN</td>\n",
       "      <td>NaN</td>\n",
       "      <td>NaN</td>\n",
       "      <td>NaN</td>\n",
       "      <td>NaN</td>\n",
       "      <td>NaN</td>\n",
       "      <td>NaN</td>\n",
       "      <td>NaN</td>\n",
       "      <td>NaN</td>\n",
       "    </tr>\n",
       "    <tr>\n",
       "      <th>4</th>\n",
       "      <td>FEMICIDIO</td>\n",
       "      <td>AZUAY</td>\n",
       "      <td>CAMILO PONCE ENRÍQUEZ</td>\n",
       "      <td>Ene</td>\n",
       "      <td>2021</td>\n",
       "      <td>ARMA CONTUNDENTE</td>\n",
       "      <td>25-29</td>\n",
       "      <td>NO DETERMINADO</td>\n",
       "      <td>1</td>\n",
       "    </tr>\n",
       "    <tr>\n",
       "      <th>5</th>\n",
       "      <td>ASESINATO</td>\n",
       "      <td>AZUAY</td>\n",
       "      <td>CUENCA</td>\n",
       "      <td>Ene</td>\n",
       "      <td>2021</td>\n",
       "      <td>ARMA DE FUEGO</td>\n",
       "      <td>30-34</td>\n",
       "      <td>NO DETERMINADO</td>\n",
       "      <td>1</td>\n",
       "    </tr>\n",
       "    <tr>\n",
       "      <th>6</th>\n",
       "      <td>ASESINATO</td>\n",
       "      <td>AZUAY</td>\n",
       "      <td>SANTA ISABEL</td>\n",
       "      <td>Ene</td>\n",
       "      <td>2021</td>\n",
       "      <td>ARMA DE FUEGO</td>\n",
       "      <td>25-29</td>\n",
       "      <td>NO DETERMINADO</td>\n",
       "      <td>1</td>\n",
       "    </tr>\n",
       "    <tr>\n",
       "      <th>7</th>\n",
       "      <td>HOMICIDIO</td>\n",
       "      <td>BOLÍVAR</td>\n",
       "      <td>CHILLANES</td>\n",
       "      <td>Ene</td>\n",
       "      <td>2021</td>\n",
       "      <td>ARMA CONTUNDENTE</td>\n",
       "      <td>35-39</td>\n",
       "      <td>NO DETERMINADO</td>\n",
       "      <td>2</td>\n",
       "    </tr>\n",
       "  </tbody>\n",
       "</table>\n",
       "</div>"
      ],
      "text/plain": [
       "2  TIPO DE MUERTE  PROVINCIA                 CANTÓN  MES   AÑO  \\\n",
       "2  TIPO DE MUERTE  PROVINCIA                 CANTÓN  MES   AÑO   \n",
       "3             NaN        NaN                    NaN  NaN   NaN   \n",
       "4       FEMICIDIO      AZUAY  CAMILO PONCE ENRÍQUEZ  Ene  2021   \n",
       "5       ASESINATO      AZUAY                 CUENCA  Ene  2021   \n",
       "6       ASESINATO      AZUAY           SANTA ISABEL  Ene  2021   \n",
       "7       HOMICIDIO    BOLÍVAR              CHILLANES  Ene  2021   \n",
       "\n",
       "2      TIPO DE ARMA  RANGO DE EDAD            SEXO  # HOMICIDIOS  \n",
       "2      TIPO DE ARMA  RANGO DE EDAD            SEXO  # HOMICIDIOS  \n",
       "3               NaN            NaN             NaN           NaN  \n",
       "4  ARMA CONTUNDENTE          25-29  NO DETERMINADO             1  \n",
       "5     ARMA DE FUEGO          30-34  NO DETERMINADO             1  \n",
       "6     ARMA DE FUEGO          25-29  NO DETERMINADO             1  \n",
       "7  ARMA CONTUNDENTE          35-39  NO DETERMINADO             2  "
      ]
     },
     "execution_count": 272,
     "metadata": {},
     "output_type": "execute_result"
    }
   ],
   "source": [
    "Homicidios.columns=Homicidios.iloc[ 0,:]\n",
    "Homicidios.head(6)"
   ]
  },
  {
   "cell_type": "code",
   "execution_count": 273,
   "id": "c07efeda",
   "metadata": {},
   "outputs": [
    {
     "data": {
      "text/html": [
       "<div>\n",
       "<style scoped>\n",
       "    .dataframe tbody tr th:only-of-type {\n",
       "        vertical-align: middle;\n",
       "    }\n",
       "\n",
       "    .dataframe tbody tr th {\n",
       "        vertical-align: top;\n",
       "    }\n",
       "\n",
       "    .dataframe thead th {\n",
       "        text-align: right;\n",
       "    }\n",
       "</style>\n",
       "<table border=\"1\" class=\"dataframe\">\n",
       "  <thead>\n",
       "    <tr style=\"text-align: right;\">\n",
       "      <th>2</th>\n",
       "      <th>TIPO DE MUERTE</th>\n",
       "      <th>PROVINCIA</th>\n",
       "      <th>CANTÓN</th>\n",
       "      <th>MES</th>\n",
       "      <th>AÑO</th>\n",
       "      <th>TIPO DE ARMA</th>\n",
       "      <th>RANGO DE EDAD</th>\n",
       "      <th>SEXO</th>\n",
       "      <th># HOMICIDIOS</th>\n",
       "    </tr>\n",
       "  </thead>\n",
       "  <tbody>\n",
       "    <tr>\n",
       "      <th>4</th>\n",
       "      <td>FEMICIDIO</td>\n",
       "      <td>AZUAY</td>\n",
       "      <td>CAMILO PONCE ENRÍQUEZ</td>\n",
       "      <td>Ene</td>\n",
       "      <td>2021</td>\n",
       "      <td>ARMA CONTUNDENTE</td>\n",
       "      <td>25-29</td>\n",
       "      <td>NO DETERMINADO</td>\n",
       "      <td>1</td>\n",
       "    </tr>\n",
       "    <tr>\n",
       "      <th>5</th>\n",
       "      <td>ASESINATO</td>\n",
       "      <td>AZUAY</td>\n",
       "      <td>CUENCA</td>\n",
       "      <td>Ene</td>\n",
       "      <td>2021</td>\n",
       "      <td>ARMA DE FUEGO</td>\n",
       "      <td>30-34</td>\n",
       "      <td>NO DETERMINADO</td>\n",
       "      <td>1</td>\n",
       "    </tr>\n",
       "    <tr>\n",
       "      <th>6</th>\n",
       "      <td>ASESINATO</td>\n",
       "      <td>AZUAY</td>\n",
       "      <td>SANTA ISABEL</td>\n",
       "      <td>Ene</td>\n",
       "      <td>2021</td>\n",
       "      <td>ARMA DE FUEGO</td>\n",
       "      <td>25-29</td>\n",
       "      <td>NO DETERMINADO</td>\n",
       "      <td>1</td>\n",
       "    </tr>\n",
       "    <tr>\n",
       "      <th>7</th>\n",
       "      <td>HOMICIDIO</td>\n",
       "      <td>BOLÍVAR</td>\n",
       "      <td>CHILLANES</td>\n",
       "      <td>Ene</td>\n",
       "      <td>2021</td>\n",
       "      <td>ARMA CONTUNDENTE</td>\n",
       "      <td>35-39</td>\n",
       "      <td>NO DETERMINADO</td>\n",
       "      <td>2</td>\n",
       "    </tr>\n",
       "    <tr>\n",
       "      <th>8</th>\n",
       "      <td>HOMICIDIO</td>\n",
       "      <td>BOLÍVAR</td>\n",
       "      <td>GUARANDA</td>\n",
       "      <td>Ene</td>\n",
       "      <td>2021</td>\n",
       "      <td>ARMA CONTUNDENTE</td>\n",
       "      <td>40-44</td>\n",
       "      <td>NO DETERMINADO</td>\n",
       "      <td>1</td>\n",
       "    </tr>\n",
       "  </tbody>\n",
       "</table>\n",
       "</div>"
      ],
      "text/plain": [
       "2 TIPO DE MUERTE PROVINCIA                 CANTÓN  MES   AÑO  \\\n",
       "4      FEMICIDIO     AZUAY  CAMILO PONCE ENRÍQUEZ  Ene  2021   \n",
       "5      ASESINATO     AZUAY                 CUENCA  Ene  2021   \n",
       "6      ASESINATO     AZUAY           SANTA ISABEL  Ene  2021   \n",
       "7      HOMICIDIO   BOLÍVAR              CHILLANES  Ene  2021   \n",
       "8      HOMICIDIO   BOLÍVAR               GUARANDA  Ene  2021   \n",
       "\n",
       "2      TIPO DE ARMA RANGO DE EDAD            SEXO # HOMICIDIOS  \n",
       "4  ARMA CONTUNDENTE         25-29  NO DETERMINADO            1  \n",
       "5     ARMA DE FUEGO         30-34  NO DETERMINADO            1  \n",
       "6     ARMA DE FUEGO         25-29  NO DETERMINADO            1  \n",
       "7  ARMA CONTUNDENTE         35-39  NO DETERMINADO            2  \n",
       "8  ARMA CONTUNDENTE         40-44  NO DETERMINADO            1  "
      ]
     },
     "execution_count": 273,
     "metadata": {},
     "output_type": "execute_result"
    }
   ],
   "source": [
    "Homicidios=Homicidios.iloc[2:,:]\n",
    "Homicidios.head()"
   ]
  },
  {
   "cell_type": "code",
   "execution_count": 274,
   "id": "6a7753fd",
   "metadata": {},
   "outputs": [
    {
     "data": {
      "text/plain": [
       "(1153, 9)"
      ]
     },
     "execution_count": 274,
     "metadata": {},
     "output_type": "execute_result"
    }
   ],
   "source": [
    "Homicidios.shape"
   ]
  },
  {
   "cell_type": "code",
   "execution_count": 8,
   "id": "3003791e",
   "metadata": {},
   "outputs": [],
   "source": [
    "Homicidios.columns=['Tipo_muerte', 'provincia', 'canton', 'mes', 'year', 'arma',\n",
    "       'rango_edad', 'sexo', 'cantidad_homicidios']"
   ]
  },
  {
   "cell_type": "code",
   "execution_count": 9,
   "id": "3797fcce",
   "metadata": {},
   "outputs": [
    {
     "data": {
      "text/html": [
       "<div>\n",
       "<style scoped>\n",
       "    .dataframe tbody tr th:only-of-type {\n",
       "        vertical-align: middle;\n",
       "    }\n",
       "\n",
       "    .dataframe tbody tr th {\n",
       "        vertical-align: top;\n",
       "    }\n",
       "\n",
       "    .dataframe thead th {\n",
       "        text-align: right;\n",
       "    }\n",
       "</style>\n",
       "<table border=\"1\" class=\"dataframe\">\n",
       "  <thead>\n",
       "    <tr style=\"text-align: right;\">\n",
       "      <th></th>\n",
       "      <th>Tipo_muerte</th>\n",
       "      <th>provincia</th>\n",
       "      <th>canton</th>\n",
       "      <th>mes</th>\n",
       "      <th>year</th>\n",
       "      <th>arma</th>\n",
       "      <th>rango_edad</th>\n",
       "      <th>sexo</th>\n",
       "      <th>cantidad_homicidios</th>\n",
       "    </tr>\n",
       "  </thead>\n",
       "  <tbody>\n",
       "    <tr>\n",
       "      <th>4</th>\n",
       "      <td>FEMICIDIO</td>\n",
       "      <td>AZUAY</td>\n",
       "      <td>CAMILO PONCE ENRÍQUEZ</td>\n",
       "      <td>Ene</td>\n",
       "      <td>2021</td>\n",
       "      <td>ARMA CONTUNDENTE</td>\n",
       "      <td>25-29</td>\n",
       "      <td>NO DETERMINADO</td>\n",
       "      <td>1</td>\n",
       "    </tr>\n",
       "    <tr>\n",
       "      <th>5</th>\n",
       "      <td>ASESINATO</td>\n",
       "      <td>AZUAY</td>\n",
       "      <td>CUENCA</td>\n",
       "      <td>Ene</td>\n",
       "      <td>2021</td>\n",
       "      <td>ARMA DE FUEGO</td>\n",
       "      <td>30-34</td>\n",
       "      <td>NO DETERMINADO</td>\n",
       "      <td>1</td>\n",
       "    </tr>\n",
       "    <tr>\n",
       "      <th>6</th>\n",
       "      <td>ASESINATO</td>\n",
       "      <td>AZUAY</td>\n",
       "      <td>SANTA ISABEL</td>\n",
       "      <td>Ene</td>\n",
       "      <td>2021</td>\n",
       "      <td>ARMA DE FUEGO</td>\n",
       "      <td>25-29</td>\n",
       "      <td>NO DETERMINADO</td>\n",
       "      <td>1</td>\n",
       "    </tr>\n",
       "    <tr>\n",
       "      <th>7</th>\n",
       "      <td>HOMICIDIO</td>\n",
       "      <td>BOLÍVAR</td>\n",
       "      <td>CHILLANES</td>\n",
       "      <td>Ene</td>\n",
       "      <td>2021</td>\n",
       "      <td>ARMA CONTUNDENTE</td>\n",
       "      <td>35-39</td>\n",
       "      <td>NO DETERMINADO</td>\n",
       "      <td>2</td>\n",
       "    </tr>\n",
       "    <tr>\n",
       "      <th>8</th>\n",
       "      <td>HOMICIDIO</td>\n",
       "      <td>BOLÍVAR</td>\n",
       "      <td>GUARANDA</td>\n",
       "      <td>Ene</td>\n",
       "      <td>2021</td>\n",
       "      <td>ARMA CONTUNDENTE</td>\n",
       "      <td>40-44</td>\n",
       "      <td>NO DETERMINADO</td>\n",
       "      <td>1</td>\n",
       "    </tr>\n",
       "    <tr>\n",
       "      <th>9</th>\n",
       "      <td>ASESINATO</td>\n",
       "      <td>CAÑAR</td>\n",
       "      <td>LA TRONCAL</td>\n",
       "      <td>Ene</td>\n",
       "      <td>2021</td>\n",
       "      <td>ARMA DE FUEGO</td>\n",
       "      <td>15-19</td>\n",
       "      <td>NO DETERMINADO</td>\n",
       "      <td>1</td>\n",
       "    </tr>\n",
       "  </tbody>\n",
       "</table>\n",
       "</div>"
      ],
      "text/plain": [
       "  Tipo_muerte provincia                 canton  mes  year              arma  \\\n",
       "4   FEMICIDIO     AZUAY  CAMILO PONCE ENRÍQUEZ  Ene  2021  ARMA CONTUNDENTE   \n",
       "5   ASESINATO     AZUAY                 CUENCA  Ene  2021     ARMA DE FUEGO   \n",
       "6   ASESINATO     AZUAY           SANTA ISABEL  Ene  2021     ARMA DE FUEGO   \n",
       "7   HOMICIDIO   BOLÍVAR              CHILLANES  Ene  2021  ARMA CONTUNDENTE   \n",
       "8   HOMICIDIO   BOLÍVAR               GUARANDA  Ene  2021  ARMA CONTUNDENTE   \n",
       "9   ASESINATO     CAÑAR             LA TRONCAL  Ene  2021     ARMA DE FUEGO   \n",
       "\n",
       "  rango_edad            sexo cantidad_homicidios  \n",
       "4      25-29  NO DETERMINADO                   1  \n",
       "5      30-34  NO DETERMINADO                   1  \n",
       "6      25-29  NO DETERMINADO                   1  \n",
       "7      35-39  NO DETERMINADO                   2  \n",
       "8      40-44  NO DETERMINADO                   1  \n",
       "9      15-19  NO DETERMINADO                   1  "
      ]
     },
     "execution_count": 9,
     "metadata": {},
     "output_type": "execute_result"
    }
   ],
   "source": [
    "Homicidios.head(6)"
   ]
  },
  {
   "cell_type": "code",
   "execution_count": 10,
   "id": "318bc158",
   "metadata": {},
   "outputs": [
    {
     "data": {
      "text/plain": [
       "1753"
      ]
     },
     "execution_count": 10,
     "metadata": {},
     "output_type": "execute_result"
    }
   ],
   "source": [
    "Homicidios['cantidad_homicidios'].sum()"
   ]
  },
  {
   "cell_type": "markdown",
   "id": "fa280cfc",
   "metadata": {},
   "source": [
    "c'est à dire que au cour de l'année 2021, il y a 1753 homicides."
   ]
  },
  {
   "cell_type": "code",
   "execution_count": 11,
   "id": "732f4eb4",
   "metadata": {},
   "outputs": [
    {
     "data": {
      "image/png": "[encoded data removed]",
      "text/plain": [
       "<Figure size 432x288 with 1 Axes>"
      ]
     },
     "metadata": {
      "needs_background": "light"
     },
     "output_type": "display_data"
    }
   ],
   "source": [
    "Homicidios['arma'].value_counts().sort_values().plot.barh()\n",
    "plt.xlabel('Utilmización de armas de fuego')\n",
    "plt.ylabel('Tipos de arma de fuego')\n",
    "plt.show()"
   ]
  },
  {
   "cell_type": "markdown",
   "id": "dad5683b",
   "metadata": {},
   "source": [
    "Le résultat du diagramme fournit une vision bien claire des types des armes les plus utilisés lors des homicides. Nous constatons que ce sont surtout des armes a feu qui sont utilisés, suivies des couteaux."
   ]
  },
  {
   "cell_type": "code",
   "execution_count": 12,
   "id": "b3a3fe76",
   "metadata": {},
   "outputs": [],
   "source": [
    "Homicidios['mes'].replace([\"Ene\", \"Feb\", \n",
    "                                      \"Mar\", \"Abr\", \"May\", \n",
    "                                      \"Jun\", \"Jul\", \"Ago\", \n",
    "                                      \"Sep\"],[1,2,3,4,5,6,7,8,9], inplace=True)"
   ]
  },
  {
   "cell_type": "code",
   "execution_count": 13,
   "id": "448d74a5",
   "metadata": {},
   "outputs": [
    {
     "data": {
      "text/html": [
       "<div>\n",
       "<style scoped>\n",
       "    .dataframe tbody tr th:only-of-type {\n",
       "        vertical-align: middle;\n",
       "    }\n",
       "\n",
       "    .dataframe tbody tr th {\n",
       "        vertical-align: top;\n",
       "    }\n",
       "\n",
       "    .dataframe thead th {\n",
       "        text-align: right;\n",
       "    }\n",
       "</style>\n",
       "<table border=\"1\" class=\"dataframe\">\n",
       "  <thead>\n",
       "    <tr style=\"text-align: right;\">\n",
       "      <th></th>\n",
       "      <th>Tipo_muerte</th>\n",
       "      <th>provincia</th>\n",
       "      <th>canton</th>\n",
       "      <th>mes</th>\n",
       "      <th>year</th>\n",
       "      <th>arma</th>\n",
       "      <th>rango_edad</th>\n",
       "      <th>sexo</th>\n",
       "      <th>cantidad_homicidios</th>\n",
       "    </tr>\n",
       "  </thead>\n",
       "  <tbody>\n",
       "    <tr>\n",
       "      <th>4</th>\n",
       "      <td>FEMICIDIO</td>\n",
       "      <td>AZUAY</td>\n",
       "      <td>CAMILO PONCE ENRÍQUEZ</td>\n",
       "      <td>1</td>\n",
       "      <td>2021</td>\n",
       "      <td>ARMA CONTUNDENTE</td>\n",
       "      <td>25-29</td>\n",
       "      <td>NO DETERMINADO</td>\n",
       "      <td>1</td>\n",
       "    </tr>\n",
       "    <tr>\n",
       "      <th>5</th>\n",
       "      <td>ASESINATO</td>\n",
       "      <td>AZUAY</td>\n",
       "      <td>CUENCA</td>\n",
       "      <td>1</td>\n",
       "      <td>2021</td>\n",
       "      <td>ARMA DE FUEGO</td>\n",
       "      <td>30-34</td>\n",
       "      <td>NO DETERMINADO</td>\n",
       "      <td>1</td>\n",
       "    </tr>\n",
       "    <tr>\n",
       "      <th>6</th>\n",
       "      <td>ASESINATO</td>\n",
       "      <td>AZUAY</td>\n",
       "      <td>SANTA ISABEL</td>\n",
       "      <td>1</td>\n",
       "      <td>2021</td>\n",
       "      <td>ARMA DE FUEGO</td>\n",
       "      <td>25-29</td>\n",
       "      <td>NO DETERMINADO</td>\n",
       "      <td>1</td>\n",
       "    </tr>\n",
       "    <tr>\n",
       "      <th>7</th>\n",
       "      <td>HOMICIDIO</td>\n",
       "      <td>BOLÍVAR</td>\n",
       "      <td>CHILLANES</td>\n",
       "      <td>1</td>\n",
       "      <td>2021</td>\n",
       "      <td>ARMA CONTUNDENTE</td>\n",
       "      <td>35-39</td>\n",
       "      <td>NO DETERMINADO</td>\n",
       "      <td>2</td>\n",
       "    </tr>\n",
       "    <tr>\n",
       "      <th>8</th>\n",
       "      <td>HOMICIDIO</td>\n",
       "      <td>BOLÍVAR</td>\n",
       "      <td>GUARANDA</td>\n",
       "      <td>1</td>\n",
       "      <td>2021</td>\n",
       "      <td>ARMA CONTUNDENTE</td>\n",
       "      <td>40-44</td>\n",
       "      <td>NO DETERMINADO</td>\n",
       "      <td>1</td>\n",
       "    </tr>\n",
       "  </tbody>\n",
       "</table>\n",
       "</div>"
      ],
      "text/plain": [
       "  Tipo_muerte provincia                 canton  mes  year              arma  \\\n",
       "4   FEMICIDIO     AZUAY  CAMILO PONCE ENRÍQUEZ    1  2021  ARMA CONTUNDENTE   \n",
       "5   ASESINATO     AZUAY                 CUENCA    1  2021     ARMA DE FUEGO   \n",
       "6   ASESINATO     AZUAY           SANTA ISABEL    1  2021     ARMA DE FUEGO   \n",
       "7   HOMICIDIO   BOLÍVAR              CHILLANES    1  2021  ARMA CONTUNDENTE   \n",
       "8   HOMICIDIO   BOLÍVAR               GUARANDA    1  2021  ARMA CONTUNDENTE   \n",
       "\n",
       "  rango_edad            sexo cantidad_homicidios  \n",
       "4      25-29  NO DETERMINADO                   1  \n",
       "5      30-34  NO DETERMINADO                   1  \n",
       "6      25-29  NO DETERMINADO                   1  \n",
       "7      35-39  NO DETERMINADO                   2  \n",
       "8      40-44  NO DETERMINADO                   1  "
      ]
     },
     "execution_count": 13,
     "metadata": {},
     "output_type": "execute_result"
    }
   ],
   "source": [
    "Homicidios.head()"
   ]
  },
  {
   "cell_type": "code",
   "execution_count": 14,
   "id": "f5dd88b0",
   "metadata": {},
   "outputs": [],
   "source": [
    "d=Homicidios.groupby(['Tipo_muerte','mes']).sum()['cantidad_homicidios']"
   ]
  },
  {
   "cell_type": "code",
   "execution_count": 15,
   "id": "1ba349b1",
   "metadata": {},
   "outputs": [],
   "source": [
    "d=pd.DataFrame(data=d)"
   ]
  },
  {
   "cell_type": "code",
   "execution_count": 16,
   "id": "1822e917",
   "metadata": {},
   "outputs": [
    {
     "data": {
      "text/html": [
       "<div>\n",
       "<style scoped>\n",
       "    .dataframe tbody tr th:only-of-type {\n",
       "        vertical-align: middle;\n",
       "    }\n",
       "\n",
       "    .dataframe tbody tr th {\n",
       "        vertical-align: top;\n",
       "    }\n",
       "\n",
       "    .dataframe thead th {\n",
       "        text-align: right;\n",
       "    }\n",
       "</style>\n",
       "<table border=\"1\" class=\"dataframe\">\n",
       "  <thead>\n",
       "    <tr style=\"text-align: right;\">\n",
       "      <th></th>\n",
       "      <th></th>\n",
       "      <th>cantidad_homicidios</th>\n",
       "    </tr>\n",
       "    <tr>\n",
       "      <th>Tipo_muerte</th>\n",
       "      <th>mes</th>\n",
       "      <th></th>\n",
       "    </tr>\n",
       "  </thead>\n",
       "  <tbody>\n",
       "    <tr>\n",
       "      <th rowspan=\"5\" valign=\"top\">ASESINATO</th>\n",
       "      <th>1</th>\n",
       "      <td>96</td>\n",
       "    </tr>\n",
       "    <tr>\n",
       "      <th>2</th>\n",
       "      <td>191</td>\n",
       "    </tr>\n",
       "    <tr>\n",
       "      <th>3</th>\n",
       "      <td>145</td>\n",
       "    </tr>\n",
       "    <tr>\n",
       "      <th>4</th>\n",
       "      <td>152</td>\n",
       "    </tr>\n",
       "    <tr>\n",
       "      <th>5</th>\n",
       "      <td>148</td>\n",
       "    </tr>\n",
       "  </tbody>\n",
       "</table>\n",
       "</div>"
      ],
      "text/plain": [
       "                 cantidad_homicidios\n",
       "Tipo_muerte mes                     \n",
       "ASESINATO   1                     96\n",
       "            2                    191\n",
       "            3                    145\n",
       "            4                    152\n",
       "            5                    148"
      ]
     },
     "execution_count": 16,
     "metadata": {},
     "output_type": "execute_result"
    }
   ],
   "source": [
    "d.head()"
   ]
  },
  {
   "cell_type": "code",
   "execution_count": 17,
   "id": "e5fd9fdc",
   "metadata": {},
   "outputs": [],
   "source": [
    "d.reset_index(inplace=True)"
   ]
  },
  {
   "cell_type": "code",
   "execution_count": 18,
   "id": "b8a72c3c",
   "metadata": {},
   "outputs": [
    {
     "data": {
      "text/html": [
       "<div>\n",
       "<style scoped>\n",
       "    .dataframe tbody tr th:only-of-type {\n",
       "        vertical-align: middle;\n",
       "    }\n",
       "\n",
       "    .dataframe tbody tr th {\n",
       "        vertical-align: top;\n",
       "    }\n",
       "\n",
       "    .dataframe thead th {\n",
       "        text-align: right;\n",
       "    }\n",
       "</style>\n",
       "<table border=\"1\" class=\"dataframe\">\n",
       "  <thead>\n",
       "    <tr style=\"text-align: right;\">\n",
       "      <th></th>\n",
       "      <th>Tipo_muerte</th>\n",
       "      <th>mes</th>\n",
       "      <th>cantidad_homicidios</th>\n",
       "    </tr>\n",
       "  </thead>\n",
       "  <tbody>\n",
       "    <tr>\n",
       "      <th>0</th>\n",
       "      <td>ASESINATO</td>\n",
       "      <td>1</td>\n",
       "      <td>96</td>\n",
       "    </tr>\n",
       "    <tr>\n",
       "      <th>1</th>\n",
       "      <td>ASESINATO</td>\n",
       "      <td>2</td>\n",
       "      <td>191</td>\n",
       "    </tr>\n",
       "    <tr>\n",
       "      <th>2</th>\n",
       "      <td>ASESINATO</td>\n",
       "      <td>3</td>\n",
       "      <td>145</td>\n",
       "    </tr>\n",
       "    <tr>\n",
       "      <th>3</th>\n",
       "      <td>ASESINATO</td>\n",
       "      <td>4</td>\n",
       "      <td>152</td>\n",
       "    </tr>\n",
       "    <tr>\n",
       "      <th>4</th>\n",
       "      <td>ASESINATO</td>\n",
       "      <td>5</td>\n",
       "      <td>148</td>\n",
       "    </tr>\n",
       "  </tbody>\n",
       "</table>\n",
       "</div>"
      ],
      "text/plain": [
       "  Tipo_muerte  mes  cantidad_homicidios\n",
       "0   ASESINATO    1                   96\n",
       "1   ASESINATO    2                  191\n",
       "2   ASESINATO    3                  145\n",
       "3   ASESINATO    4                  152\n",
       "4   ASESINATO    5                  148"
      ]
     },
     "execution_count": 18,
     "metadata": {},
     "output_type": "execute_result"
    }
   ],
   "source": [
    "d.head()"
   ]
  },
  {
   "cell_type": "code",
   "execution_count": 253,
   "id": "3db3283b",
   "metadata": {},
   "outputs": [
    {
     "data": {
      "image/png": "[encoded data removed]",
      "text/plain": [
       "<Figure size 864x576 with 1 Axes>"
      ]
     },
     "metadata": {
      "needs_background": "light"
     },
     "output_type": "display_data"
    }
   ],
   "source": [
    "fig=plt.figure(figsize=(12,8))\n",
    "\n",
    "ax = fig.add_subplot(1, 1, 1)\n",
    "ax.plot(d.loc[(d['Tipo_muerte']=='ASESINATO')]['mes'],d.loc[(d['Tipo_muerte']=='ASESINATO')]['cantidad_homicidios'],label='Asesinato')\n",
    "ax.plot(d.loc[(d['Tipo_muerte']=='FEMICIDIO')]['mes'],d.loc[(d['Tipo_muerte']=='FEMICIDIO')]['cantidad_homicidios'],label='FEMICIDIO')\n",
    "ax.plot(d.loc[(d['Tipo_muerte']=='HOMICIDIO')]['mes'],d.loc[(d['Tipo_muerte']=='HOMICIDIO')]['cantidad_homicidios'],label='HOMICIDIO')\n",
    "ax.plot(d.loc[(d['Tipo_muerte']=='SICARIATO')]['mes'],d.loc[(d['Tipo_muerte']=='SICARIATO')]['cantidad_homicidios'],label='SICARIATO')\n",
    "ticks = ax.set_xticks([1,2,3,4,5,6,7,8,9])\n",
    "labels = ax.set_xticklabels(['Janvier','Fevrier',\"Mars\",'Avril','Mai','Juin','Julliet','Aout','Septembre'], \n",
    "                            rotation=30, fontsize='large')\n",
    "#ax.set_title('My first matplotlib plot')\n",
    "#ax.set_xlabel('Stages')\n",
    "\n",
    "plt.legend()\n",
    "plt.xlabel(\"Les mois de l'année 2021\", fontsize='large')\n",
    "plt.ylabel(\"Quantité de cas commis\", fontsize='large')\n",
    "plt.title(\"Croissance par type d'homicide et par mois\", fontsize='x-large')\n",
    "plt.show()"
   ]
  },
  {
   "cell_type": "markdown",
   "id": "d2745954",
   "metadata": {},
   "source": [
    "###### Des armes blanches"
   ]
  },
  {
   "cell_type": "code",
   "execution_count": 35,
   "id": "bdd4f584",
   "metadata": {},
   "outputs": [],
   "source": [
    "import seaborn as sns"
   ]
  },
  {
   "cell_type": "code",
   "execution_count": 36,
   "id": "02ba5d1e",
   "metadata": {},
   "outputs": [
    {
     "data": {
      "text/html": [
       "<div>\n",
       "<style scoped>\n",
       "    .dataframe tbody tr th:only-of-type {\n",
       "        vertical-align: middle;\n",
       "    }\n",
       "\n",
       "    .dataframe tbody tr th {\n",
       "        vertical-align: top;\n",
       "    }\n",
       "\n",
       "    .dataframe thead th {\n",
       "        text-align: right;\n",
       "    }\n",
       "</style>\n",
       "<table border=\"1\" class=\"dataframe\">\n",
       "  <thead>\n",
       "    <tr style=\"text-align: right;\">\n",
       "      <th></th>\n",
       "      <th>Tipo_muerte</th>\n",
       "      <th>provincia</th>\n",
       "      <th>canton</th>\n",
       "      <th>mes</th>\n",
       "      <th>year</th>\n",
       "      <th>arma</th>\n",
       "      <th>rango_edad</th>\n",
       "      <th>sexo</th>\n",
       "      <th>cantidad_homicidios</th>\n",
       "    </tr>\n",
       "  </thead>\n",
       "  <tbody>\n",
       "    <tr>\n",
       "      <th>4</th>\n",
       "      <td>FEMICIDIO</td>\n",
       "      <td>AZUAY</td>\n",
       "      <td>CAMILO PONCE ENRÍQUEZ</td>\n",
       "      <td>1</td>\n",
       "      <td>2021</td>\n",
       "      <td>ARMA CONTUNDENTE</td>\n",
       "      <td>25-29</td>\n",
       "      <td>NO DETERMINADO</td>\n",
       "      <td>1</td>\n",
       "    </tr>\n",
       "    <tr>\n",
       "      <th>5</th>\n",
       "      <td>ASESINATO</td>\n",
       "      <td>AZUAY</td>\n",
       "      <td>CUENCA</td>\n",
       "      <td>1</td>\n",
       "      <td>2021</td>\n",
       "      <td>ARMA DE FUEGO</td>\n",
       "      <td>30-34</td>\n",
       "      <td>NO DETERMINADO</td>\n",
       "      <td>1</td>\n",
       "    </tr>\n",
       "    <tr>\n",
       "      <th>6</th>\n",
       "      <td>ASESINATO</td>\n",
       "      <td>AZUAY</td>\n",
       "      <td>SANTA ISABEL</td>\n",
       "      <td>1</td>\n",
       "      <td>2021</td>\n",
       "      <td>ARMA DE FUEGO</td>\n",
       "      <td>25-29</td>\n",
       "      <td>NO DETERMINADO</td>\n",
       "      <td>1</td>\n",
       "    </tr>\n",
       "    <tr>\n",
       "      <th>7</th>\n",
       "      <td>HOMICIDIO</td>\n",
       "      <td>BOLÍVAR</td>\n",
       "      <td>CHILLANES</td>\n",
       "      <td>1</td>\n",
       "      <td>2021</td>\n",
       "      <td>ARMA CONTUNDENTE</td>\n",
       "      <td>35-39</td>\n",
       "      <td>NO DETERMINADO</td>\n",
       "      <td>2</td>\n",
       "    </tr>\n",
       "    <tr>\n",
       "      <th>8</th>\n",
       "      <td>HOMICIDIO</td>\n",
       "      <td>BOLÍVAR</td>\n",
       "      <td>GUARANDA</td>\n",
       "      <td>1</td>\n",
       "      <td>2021</td>\n",
       "      <td>ARMA CONTUNDENTE</td>\n",
       "      <td>40-44</td>\n",
       "      <td>NO DETERMINADO</td>\n",
       "      <td>1</td>\n",
       "    </tr>\n",
       "  </tbody>\n",
       "</table>\n",
       "</div>"
      ],
      "text/plain": [
       "  Tipo_muerte provincia                 canton  mes  year              arma  \\\n",
       "4   FEMICIDIO     AZUAY  CAMILO PONCE ENRÍQUEZ    1  2021  ARMA CONTUNDENTE   \n",
       "5   ASESINATO     AZUAY                 CUENCA    1  2021     ARMA DE FUEGO   \n",
       "6   ASESINATO     AZUAY           SANTA ISABEL    1  2021     ARMA DE FUEGO   \n",
       "7   HOMICIDIO   BOLÍVAR              CHILLANES    1  2021  ARMA CONTUNDENTE   \n",
       "8   HOMICIDIO   BOLÍVAR               GUARANDA    1  2021  ARMA CONTUNDENTE   \n",
       "\n",
       "  rango_edad            sexo cantidad_homicidios  \n",
       "4      25-29  NO DETERMINADO                   1  \n",
       "5      30-34  NO DETERMINADO                   1  \n",
       "6      25-29  NO DETERMINADO                   1  \n",
       "7      35-39  NO DETERMINADO                   2  \n",
       "8      40-44  NO DETERMINADO                   1  "
      ]
     },
     "execution_count": 36,
     "metadata": {},
     "output_type": "execute_result"
    }
   ],
   "source": [
    "Homicidios.head()"
   ]
  },
  {
   "cell_type": "code",
   "execution_count": 85,
   "id": "1af8229a",
   "metadata": {},
   "outputs": [],
   "source": [
    "Homicidios['cantidad_homicidios']=Homicidios['cantidad_homicidios'].astype('int64')"
   ]
  },
  {
   "cell_type": "code",
   "execution_count": 86,
   "id": "d63098a3",
   "metadata": {},
   "outputs": [
    {
     "name": "stdout",
     "output_type": "stream",
     "text": [
      "<class 'pandas.core.frame.DataFrame'>\n",
      "RangeIndex: 1153 entries, 4 to 1156\n",
      "Data columns (total 9 columns):\n",
      " #   Column               Non-Null Count  Dtype \n",
      "---  ------               --------------  ----- \n",
      " 0   Tipo_muerte          1153 non-null   object\n",
      " 1   provincia            1153 non-null   object\n",
      " 2   canton               1153 non-null   object\n",
      " 3   mes                  1153 non-null   int64 \n",
      " 4   year                 1153 non-null   object\n",
      " 5   arma                 1153 non-null   object\n",
      " 6   rango_edad           1153 non-null   object\n",
      " 7   sexo                 1153 non-null   object\n",
      " 8   cantidad_homicidios  1153 non-null   int64 \n",
      "dtypes: int64(2), object(7)\n",
      "memory usage: 81.2+ KB\n"
     ]
    }
   ],
   "source": [
    "Homicidios.info()"
   ]
  },
  {
   "cell_type": "code",
   "execution_count": 87,
   "id": "063189a5",
   "metadata": {},
   "outputs": [],
   "source": [
    "tip_muerte_arma=Homicidios.groupby(['Tipo_muerte','arma'])['cantidad_homicidios'].sum()"
   ]
  },
  {
   "cell_type": "code",
   "execution_count": 88,
   "id": "b5003eae",
   "metadata": {},
   "outputs": [
    {
     "data": {
      "text/plain": [
       "Tipo_muerte  arma            \n",
       "ASESINATO    ARMA BLANCA          230\n",
       "             ARMA CONTUNDENTE      34\n",
       "             ARMA DE FUEGO       1188\n",
       "             CONSTRICTORA          38\n",
       "             OTROS                 26\n",
       "Name: cantidad_homicidios, dtype: int64"
      ]
     },
     "execution_count": 88,
     "metadata": {},
     "output_type": "execute_result"
    }
   ],
   "source": [
    "tip_muerte_arma.head()"
   ]
  },
  {
   "cell_type": "code",
   "execution_count": 89,
   "id": "0a6edf30",
   "metadata": {},
   "outputs": [],
   "source": [
    "tip_muerte_arma=pd.DataFrame(data=tip_muerte_arma)\n",
    "tip_muerte_arma.reset_index(inplace=True)"
   ]
  },
  {
   "cell_type": "code",
   "execution_count": 90,
   "id": "386d4914",
   "metadata": {},
   "outputs": [
    {
     "data": {
      "text/html": [
       "<div>\n",
       "<style scoped>\n",
       "    .dataframe tbody tr th:only-of-type {\n",
       "        vertical-align: middle;\n",
       "    }\n",
       "\n",
       "    .dataframe tbody tr th {\n",
       "        vertical-align: top;\n",
       "    }\n",
       "\n",
       "    .dataframe thead th {\n",
       "        text-align: right;\n",
       "    }\n",
       "</style>\n",
       "<table border=\"1\" class=\"dataframe\">\n",
       "  <thead>\n",
       "    <tr style=\"text-align: right;\">\n",
       "      <th></th>\n",
       "      <th>Tipo_muerte</th>\n",
       "      <th>arma</th>\n",
       "      <th>cantidad_homicidios</th>\n",
       "    </tr>\n",
       "  </thead>\n",
       "  <tbody>\n",
       "    <tr>\n",
       "      <th>0</th>\n",
       "      <td>ASESINATO</td>\n",
       "      <td>ARMA BLANCA</td>\n",
       "      <td>230</td>\n",
       "    </tr>\n",
       "    <tr>\n",
       "      <th>1</th>\n",
       "      <td>ASESINATO</td>\n",
       "      <td>ARMA CONTUNDENTE</td>\n",
       "      <td>34</td>\n",
       "    </tr>\n",
       "    <tr>\n",
       "      <th>2</th>\n",
       "      <td>ASESINATO</td>\n",
       "      <td>ARMA DE FUEGO</td>\n",
       "      <td>1188</td>\n",
       "    </tr>\n",
       "    <tr>\n",
       "      <th>3</th>\n",
       "      <td>ASESINATO</td>\n",
       "      <td>CONSTRICTORA</td>\n",
       "      <td>38</td>\n",
       "    </tr>\n",
       "    <tr>\n",
       "      <th>4</th>\n",
       "      <td>ASESINATO</td>\n",
       "      <td>OTROS</td>\n",
       "      <td>26</td>\n",
       "    </tr>\n",
       "  </tbody>\n",
       "</table>\n",
       "</div>"
      ],
      "text/plain": [
       "  Tipo_muerte              arma  cantidad_homicidios\n",
       "0   ASESINATO       ARMA BLANCA                  230\n",
       "1   ASESINATO  ARMA CONTUNDENTE                   34\n",
       "2   ASESINATO     ARMA DE FUEGO                 1188\n",
       "3   ASESINATO      CONSTRICTORA                   38\n",
       "4   ASESINATO             OTROS                   26"
      ]
     },
     "execution_count": 90,
     "metadata": {},
     "output_type": "execute_result"
    }
   ],
   "source": [
    "tip_muerte_arma.head()"
   ]
  },
  {
   "cell_type": "code",
   "execution_count": 91,
   "id": "f1146a61",
   "metadata": {},
   "outputs": [],
   "source": [
    "tip2=tip_muerte_arma.pivot(index='arma',\n",
    "                          columns='Tipo_muerte',\n",
    "                          values='cantidad_homicidios')"
   ]
  },
  {
   "cell_type": "code",
   "execution_count": 92,
   "id": "8c25b75d",
   "metadata": {},
   "outputs": [
    {
     "data": {
      "text/html": [
       "<div>\n",
       "<style scoped>\n",
       "    .dataframe tbody tr th:only-of-type {\n",
       "        vertical-align: middle;\n",
       "    }\n",
       "\n",
       "    .dataframe tbody tr th {\n",
       "        vertical-align: top;\n",
       "    }\n",
       "\n",
       "    .dataframe thead th {\n",
       "        text-align: right;\n",
       "    }\n",
       "</style>\n",
       "<table border=\"1\" class=\"dataframe\">\n",
       "  <thead>\n",
       "    <tr style=\"text-align: right;\">\n",
       "      <th>Tipo_muerte</th>\n",
       "      <th>ASESINATO</th>\n",
       "      <th>FEMICIDIO</th>\n",
       "      <th>HOMICIDIO</th>\n",
       "      <th>SICARIATO</th>\n",
       "    </tr>\n",
       "    <tr>\n",
       "      <th>arma</th>\n",
       "      <th></th>\n",
       "      <th></th>\n",
       "      <th></th>\n",
       "      <th></th>\n",
       "    </tr>\n",
       "  </thead>\n",
       "  <tbody>\n",
       "    <tr>\n",
       "      <th>ARMA BLANCA</th>\n",
       "      <td>230.0</td>\n",
       "      <td>18.0</td>\n",
       "      <td>81.0</td>\n",
       "      <td>NaN</td>\n",
       "    </tr>\n",
       "    <tr>\n",
       "      <th>ARMA CONTUNDENTE</th>\n",
       "      <td>34.0</td>\n",
       "      <td>9.0</td>\n",
       "      <td>25.0</td>\n",
       "      <td>NaN</td>\n",
       "    </tr>\n",
       "    <tr>\n",
       "      <th>ARMA DE FUEGO</th>\n",
       "      <td>1188.0</td>\n",
       "      <td>6.0</td>\n",
       "      <td>40.0</td>\n",
       "      <td>12.0</td>\n",
       "    </tr>\n",
       "    <tr>\n",
       "      <th>CONSTRICTORA</th>\n",
       "      <td>38.0</td>\n",
       "      <td>7.0</td>\n",
       "      <td>11.0</td>\n",
       "      <td>NaN</td>\n",
       "    </tr>\n",
       "    <tr>\n",
       "      <th>OTROS</th>\n",
       "      <td>26.0</td>\n",
       "      <td>9.0</td>\n",
       "      <td>18.0</td>\n",
       "      <td>NaN</td>\n",
       "    </tr>\n",
       "  </tbody>\n",
       "</table>\n",
       "</div>"
      ],
      "text/plain": [
       "Tipo_muerte       ASESINATO  FEMICIDIO  HOMICIDIO  SICARIATO\n",
       "arma                                                        \n",
       "ARMA BLANCA           230.0       18.0       81.0        NaN\n",
       "ARMA CONTUNDENTE       34.0        9.0       25.0        NaN\n",
       "ARMA DE FUEGO        1188.0        6.0       40.0       12.0\n",
       "CONSTRICTORA           38.0        7.0       11.0        NaN\n",
       "OTROS                  26.0        9.0       18.0        NaN"
      ]
     },
     "execution_count": 92,
     "metadata": {},
     "output_type": "execute_result"
    }
   ],
   "source": [
    "tip2.head()"
   ]
  },
  {
   "cell_type": "code",
   "execution_count": 93,
   "id": "b08efe11",
   "metadata": {},
   "outputs": [
    {
     "data": {
      "text/plain": [
       "<AxesSubplot:xlabel='arma'>"
      ]
     },
     "execution_count": 93,
     "metadata": {},
     "output_type": "execute_result"
    },
    {
     "data": {
      "image/png": "[encoded data removed]",
      "text/plain": [
       "<Figure size 720x576 with 1 Axes>"
      ]
     },
     "metadata": {
      "needs_background": "light"
     },
     "output_type": "display_data"
    }
   ],
   "source": [
    "\n",
    "tip2.plot.bar(figsize=(10,8))"
   ]
  },
  {
   "cell_type": "code",
   "execution_count": 94,
   "id": "8490704b",
   "metadata": {},
   "outputs": [
    {
     "data": {
      "text/plain": [
       "<AxesSubplot:ylabel='arma'>"
      ]
     },
     "execution_count": 94,
     "metadata": {},
     "output_type": "execute_result"
    },
    {
     "data": {
      "image/png": "[encoded data removed]",
      "text/plain": [
       "<Figure size 720x576 with 1 Axes>"
      ]
     },
     "metadata": {
      "needs_background": "light"
     },
     "output_type": "display_data"
    }
   ],
   "source": [
    "\n",
    "tip2.plot.barh(stacked=True, alpha=0.5, figsize=(10,8))"
   ]
  },
  {
   "cell_type": "markdown",
   "id": "21e9a5cd",
   "metadata": {},
   "source": [
    "## Faire des graphiques en utilisant le package searbon"
   ]
  },
  {
   "cell_type": "code",
   "execution_count": 95,
   "id": "35f495e6",
   "metadata": {},
   "outputs": [],
   "source": [
    "tip_muerte_arma=Homicidios.groupby(['Tipo_muerte','arma'])['cantidad_homicidios'].sum()\n",
    "tip_muerte_arma=pd.DataFrame(data=tip_muerte_arma)\n",
    "tip_muerte_arma.reset_index(inplace=True)"
   ]
  },
  {
   "cell_type": "code",
   "execution_count": 96,
   "id": "67e1c2c5",
   "metadata": {},
   "outputs": [
    {
     "data": {
      "text/html": [
       "<div>\n",
       "<style scoped>\n",
       "    .dataframe tbody tr th:only-of-type {\n",
       "        vertical-align: middle;\n",
       "    }\n",
       "\n",
       "    .dataframe tbody tr th {\n",
       "        vertical-align: top;\n",
       "    }\n",
       "\n",
       "    .dataframe thead th {\n",
       "        text-align: right;\n",
       "    }\n",
       "</style>\n",
       "<table border=\"1\" class=\"dataframe\">\n",
       "  <thead>\n",
       "    <tr style=\"text-align: right;\">\n",
       "      <th></th>\n",
       "      <th>Tipo_muerte</th>\n",
       "      <th>arma</th>\n",
       "      <th>cantidad_homicidios</th>\n",
       "    </tr>\n",
       "  </thead>\n",
       "  <tbody>\n",
       "    <tr>\n",
       "      <th>0</th>\n",
       "      <td>ASESINATO</td>\n",
       "      <td>ARMA BLANCA</td>\n",
       "      <td>230</td>\n",
       "    </tr>\n",
       "    <tr>\n",
       "      <th>1</th>\n",
       "      <td>ASESINATO</td>\n",
       "      <td>ARMA CONTUNDENTE</td>\n",
       "      <td>34</td>\n",
       "    </tr>\n",
       "    <tr>\n",
       "      <th>2</th>\n",
       "      <td>ASESINATO</td>\n",
       "      <td>ARMA DE FUEGO</td>\n",
       "      <td>1188</td>\n",
       "    </tr>\n",
       "    <tr>\n",
       "      <th>3</th>\n",
       "      <td>ASESINATO</td>\n",
       "      <td>CONSTRICTORA</td>\n",
       "      <td>38</td>\n",
       "    </tr>\n",
       "    <tr>\n",
       "      <th>4</th>\n",
       "      <td>ASESINATO</td>\n",
       "      <td>OTROS</td>\n",
       "      <td>26</td>\n",
       "    </tr>\n",
       "  </tbody>\n",
       "</table>\n",
       "</div>"
      ],
      "text/plain": [
       "  Tipo_muerte              arma  cantidad_homicidios\n",
       "0   ASESINATO       ARMA BLANCA                  230\n",
       "1   ASESINATO  ARMA CONTUNDENTE                   34\n",
       "2   ASESINATO     ARMA DE FUEGO                 1188\n",
       "3   ASESINATO      CONSTRICTORA                   38\n",
       "4   ASESINATO             OTROS                   26"
      ]
     },
     "execution_count": 96,
     "metadata": {},
     "output_type": "execute_result"
    }
   ],
   "source": [
    "tip_muerte_arma.head()"
   ]
  },
  {
   "cell_type": "code",
   "execution_count": 105,
   "id": "0793a293",
   "metadata": {},
   "outputs": [
    {
     "data": {
      "image/png": "[encoded data removed]",
      "text/plain": [
       "<Figure size 864x576 with 1 Axes>"
      ]
     },
     "metadata": {
      "needs_background": "light"
     },
     "output_type": "display_data"
    }
   ],
   "source": [
    "plt.figure(figsize=(12,8))\n",
    "sns.barplot(x='arma',y='cantidad_homicidios',data=tip_muerte_arma, hue='Tipo_muerte')\n",
    "plt.show()"
   ]
  },
  {
   "cell_type": "code",
   "execution_count": 106,
   "id": "7ef48b1e",
   "metadata": {},
   "outputs": [
    {
     "data": {
      "text/html": [
       "<div>\n",
       "<style scoped>\n",
       "    .dataframe tbody tr th:only-of-type {\n",
       "        vertical-align: middle;\n",
       "    }\n",
       "\n",
       "    .dataframe tbody tr th {\n",
       "        vertical-align: top;\n",
       "    }\n",
       "\n",
       "    .dataframe thead th {\n",
       "        text-align: right;\n",
       "    }\n",
       "</style>\n",
       "<table border=\"1\" class=\"dataframe\">\n",
       "  <thead>\n",
       "    <tr style=\"text-align: right;\">\n",
       "      <th></th>\n",
       "      <th>Tipo_muerte</th>\n",
       "      <th>provincia</th>\n",
       "      <th>canton</th>\n",
       "      <th>mes</th>\n",
       "      <th>year</th>\n",
       "      <th>arma</th>\n",
       "      <th>rango_edad</th>\n",
       "      <th>sexo</th>\n",
       "      <th>cantidad_homicidios</th>\n",
       "    </tr>\n",
       "  </thead>\n",
       "  <tbody>\n",
       "    <tr>\n",
       "      <th>4</th>\n",
       "      <td>FEMICIDIO</td>\n",
       "      <td>AZUAY</td>\n",
       "      <td>CAMILO PONCE ENRÍQUEZ</td>\n",
       "      <td>1</td>\n",
       "      <td>2021</td>\n",
       "      <td>ARMA CONTUNDENTE</td>\n",
       "      <td>25-29</td>\n",
       "      <td>NO DETERMINADO</td>\n",
       "      <td>1</td>\n",
       "    </tr>\n",
       "    <tr>\n",
       "      <th>5</th>\n",
       "      <td>ASESINATO</td>\n",
       "      <td>AZUAY</td>\n",
       "      <td>CUENCA</td>\n",
       "      <td>1</td>\n",
       "      <td>2021</td>\n",
       "      <td>ARMA DE FUEGO</td>\n",
       "      <td>30-34</td>\n",
       "      <td>NO DETERMINADO</td>\n",
       "      <td>1</td>\n",
       "    </tr>\n",
       "    <tr>\n",
       "      <th>6</th>\n",
       "      <td>ASESINATO</td>\n",
       "      <td>AZUAY</td>\n",
       "      <td>SANTA ISABEL</td>\n",
       "      <td>1</td>\n",
       "      <td>2021</td>\n",
       "      <td>ARMA DE FUEGO</td>\n",
       "      <td>25-29</td>\n",
       "      <td>NO DETERMINADO</td>\n",
       "      <td>1</td>\n",
       "    </tr>\n",
       "    <tr>\n",
       "      <th>7</th>\n",
       "      <td>HOMICIDIO</td>\n",
       "      <td>BOLÍVAR</td>\n",
       "      <td>CHILLANES</td>\n",
       "      <td>1</td>\n",
       "      <td>2021</td>\n",
       "      <td>ARMA CONTUNDENTE</td>\n",
       "      <td>35-39</td>\n",
       "      <td>NO DETERMINADO</td>\n",
       "      <td>2</td>\n",
       "    </tr>\n",
       "    <tr>\n",
       "      <th>8</th>\n",
       "      <td>HOMICIDIO</td>\n",
       "      <td>BOLÍVAR</td>\n",
       "      <td>GUARANDA</td>\n",
       "      <td>1</td>\n",
       "      <td>2021</td>\n",
       "      <td>ARMA CONTUNDENTE</td>\n",
       "      <td>40-44</td>\n",
       "      <td>NO DETERMINADO</td>\n",
       "      <td>1</td>\n",
       "    </tr>\n",
       "  </tbody>\n",
       "</table>\n",
       "</div>"
      ],
      "text/plain": [
       "  Tipo_muerte provincia                 canton  mes  year              arma  \\\n",
       "4   FEMICIDIO     AZUAY  CAMILO PONCE ENRÍQUEZ    1  2021  ARMA CONTUNDENTE   \n",
       "5   ASESINATO     AZUAY                 CUENCA    1  2021     ARMA DE FUEGO   \n",
       "6   ASESINATO     AZUAY           SANTA ISABEL    1  2021     ARMA DE FUEGO   \n",
       "7   HOMICIDIO   BOLÍVAR              CHILLANES    1  2021  ARMA CONTUNDENTE   \n",
       "8   HOMICIDIO   BOLÍVAR               GUARANDA    1  2021  ARMA CONTUNDENTE   \n",
       "\n",
       "  rango_edad            sexo  cantidad_homicidios  \n",
       "4      25-29  NO DETERMINADO                    1  \n",
       "5      30-34  NO DETERMINADO                    1  \n",
       "6      25-29  NO DETERMINADO                    1  \n",
       "7      35-39  NO DETERMINADO                    2  \n",
       "8      40-44  NO DETERMINADO                    1  "
      ]
     },
     "execution_count": 106,
     "metadata": {},
     "output_type": "execute_result"
    }
   ],
   "source": [
    "Homicidios.head()"
   ]
  },
  {
   "cell_type": "code",
   "execution_count": 131,
   "id": "019ac797",
   "metadata": {},
   "outputs": [],
   "source": [
    "provincia_homicidios=Homicidios.groupby(['Tipo_muerte','provincia'])['cantidad_homicidios'].sum()"
   ]
  },
  {
   "cell_type": "code",
   "execution_count": 132,
   "id": "1cf1789a",
   "metadata": {},
   "outputs": [
    {
     "data": {
      "text/plain": [
       "Tipo_muerte  provincia \n",
       "ASESINATO    AZUAY         42\n",
       "             BOLÍVAR        4\n",
       "             CARCHI         4\n",
       "             CAÑAR         33\n",
       "             CHIMBORAZO     8\n",
       "Name: cantidad_homicidios, dtype: int64"
      ]
     },
     "execution_count": 132,
     "metadata": {},
     "output_type": "execute_result"
    }
   ],
   "source": [
    "provincia_homicidios.head()"
   ]
  },
  {
   "cell_type": "code",
   "execution_count": 133,
   "id": "f6ac653c",
   "metadata": {},
   "outputs": [],
   "source": [
    "provincia_homicidios=pd.DataFrame(data=provincia_homicidios)"
   ]
  },
  {
   "cell_type": "code",
   "execution_count": 134,
   "id": "3074b070",
   "metadata": {},
   "outputs": [],
   "source": [
    "provincia_homicidios.reset_index(inplace=True)"
   ]
  },
  {
   "cell_type": "code",
   "execution_count": 135,
   "id": "784aa0fb",
   "metadata": {},
   "outputs": [
    {
     "data": {
      "text/html": [
       "<div>\n",
       "<style scoped>\n",
       "    .dataframe tbody tr th:only-of-type {\n",
       "        vertical-align: middle;\n",
       "    }\n",
       "\n",
       "    .dataframe tbody tr th {\n",
       "        vertical-align: top;\n",
       "    }\n",
       "\n",
       "    .dataframe thead th {\n",
       "        text-align: right;\n",
       "    }\n",
       "</style>\n",
       "<table border=\"1\" class=\"dataframe\">\n",
       "  <thead>\n",
       "    <tr style=\"text-align: right;\">\n",
       "      <th></th>\n",
       "      <th>Tipo_muerte</th>\n",
       "      <th>provincia</th>\n",
       "      <th>cantidad_homicidios</th>\n",
       "    </tr>\n",
       "  </thead>\n",
       "  <tbody>\n",
       "    <tr>\n",
       "      <th>0</th>\n",
       "      <td>ASESINATO</td>\n",
       "      <td>AZUAY</td>\n",
       "      <td>42</td>\n",
       "    </tr>\n",
       "    <tr>\n",
       "      <th>1</th>\n",
       "      <td>ASESINATO</td>\n",
       "      <td>BOLÍVAR</td>\n",
       "      <td>4</td>\n",
       "    </tr>\n",
       "    <tr>\n",
       "      <th>2</th>\n",
       "      <td>ASESINATO</td>\n",
       "      <td>CARCHI</td>\n",
       "      <td>4</td>\n",
       "    </tr>\n",
       "    <tr>\n",
       "      <th>3</th>\n",
       "      <td>ASESINATO</td>\n",
       "      <td>CAÑAR</td>\n",
       "      <td>33</td>\n",
       "    </tr>\n",
       "    <tr>\n",
       "      <th>4</th>\n",
       "      <td>ASESINATO</td>\n",
       "      <td>CHIMBORAZO</td>\n",
       "      <td>8</td>\n",
       "    </tr>\n",
       "  </tbody>\n",
       "</table>\n",
       "</div>"
      ],
      "text/plain": [
       "  Tipo_muerte   provincia  cantidad_homicidios\n",
       "0   ASESINATO       AZUAY                   42\n",
       "1   ASESINATO     BOLÍVAR                    4\n",
       "2   ASESINATO      CARCHI                    4\n",
       "3   ASESINATO       CAÑAR                   33\n",
       "4   ASESINATO  CHIMBORAZO                    8"
      ]
     },
     "execution_count": 135,
     "metadata": {},
     "output_type": "execute_result"
    }
   ],
   "source": [
    "provincia_homicidios.head()"
   ]
  },
  {
   "cell_type": "code",
   "execution_count": 187,
   "id": "f00f8e2f",
   "metadata": {},
   "outputs": [],
   "source": [
    "v=provincia_homicidios.groupby('Tipo_muerte')['cantidad_homicidios'].sum().tolist()"
   ]
  },
  {
   "cell_type": "code",
   "execution_count": 145,
   "id": "649832ed",
   "metadata": {},
   "outputs": [
    {
     "data": {
      "text/plain": [
       "Tipo_muerte\n",
       "ASESINATO    1517\n",
       "FEMICIDIO      49\n",
       "HOMICIDIO     175\n",
       "SICARIATO      12\n",
       "Name: cantidad_homicidios, dtype: int64"
      ]
     },
     "execution_count": 145,
     "metadata": {},
     "output_type": "execute_result"
    }
   ],
   "source": [
    "provincia_homicidios.groupby('Tipo_muerte')['cantidad_homicidios'].sum()"
   ]
  },
  {
   "cell_type": "code",
   "execution_count": 223,
   "id": "e462c3b9",
   "metadata": {},
   "outputs": [],
   "source": [
    "asesinato=provincia_homicidios[provincia_homicidios['Tipo_muerte'].isin(['ASESINATO'])]['cantidad_homicidios'].tolist()\n",
    "femicidio=provincia_homicidios[provincia_homicidios['Tipo_muerte'].isin(['FEMICIDIO'])]['cantidad_homicidios'].tolist()\n",
    "homicidio=provincia_homicidios[provincia_homicidios['Tipo_muerte'].isin(['HOMICIDIO'])]['cantidad_homicidios'].tolist()\n",
    "sicariato=provincia_homicidios[provincia_homicidios['Tipo_muerte'].isin(['SICARIATO'])]['cantidad_homicidios'].tolist()"
   ]
  },
  {
   "cell_type": "code",
   "execution_count": 222,
   "id": "737e8710",
   "metadata": {},
   "outputs": [
    {
     "data": {
      "text/html": [
       "<div>\n",
       "<style scoped>\n",
       "    .dataframe tbody tr th:only-of-type {\n",
       "        vertical-align: middle;\n",
       "    }\n",
       "\n",
       "    .dataframe tbody tr th {\n",
       "        vertical-align: top;\n",
       "    }\n",
       "\n",
       "    .dataframe thead th {\n",
       "        text-align: right;\n",
       "    }\n",
       "</style>\n",
       "<table border=\"1\" class=\"dataframe\">\n",
       "  <thead>\n",
       "    <tr style=\"text-align: right;\">\n",
       "      <th></th>\n",
       "      <th>Tipo_muerte</th>\n",
       "      <th>provincia</th>\n",
       "      <th>cantidad_homicidios</th>\n",
       "    </tr>\n",
       "  </thead>\n",
       "  <tbody>\n",
       "    <tr>\n",
       "      <th>59</th>\n",
       "      <td>SICARIATO</td>\n",
       "      <td>COTOPAXI</td>\n",
       "      <td>1</td>\n",
       "    </tr>\n",
       "    <tr>\n",
       "      <th>60</th>\n",
       "      <td>SICARIATO</td>\n",
       "      <td>GUAYAS</td>\n",
       "      <td>3</td>\n",
       "    </tr>\n",
       "    <tr>\n",
       "      <th>61</th>\n",
       "      <td>SICARIATO</td>\n",
       "      <td>LOS RÍOS</td>\n",
       "      <td>3</td>\n",
       "    </tr>\n",
       "    <tr>\n",
       "      <th>62</th>\n",
       "      <td>SICARIATO</td>\n",
       "      <td>MANABÍ</td>\n",
       "      <td>4</td>\n",
       "    </tr>\n",
       "    <tr>\n",
       "      <th>63</th>\n",
       "      <td>SICARIATO</td>\n",
       "      <td>MORONA SANTIAGO</td>\n",
       "      <td>1</td>\n",
       "    </tr>\n",
       "  </tbody>\n",
       "</table>\n",
       "</div>"
      ],
      "text/plain": [
       "   Tipo_muerte        provincia  cantidad_homicidios\n",
       "59   SICARIATO         COTOPAXI                    1\n",
       "60   SICARIATO           GUAYAS                    3\n",
       "61   SICARIATO         LOS RÍOS                    3\n",
       "62   SICARIATO           MANABÍ                    4\n",
       "63   SICARIATO  MORONA SANTIAGO                    1"
      ]
     },
     "execution_count": 222,
     "metadata": {},
     "output_type": "execute_result"
    }
   ],
   "source": [
    "provincia_homicidios[provincia_homicidios['Tipo_muerte'].isin(['SICARIATO'])]"
   ]
  },
  {
   "cell_type": "code",
   "execution_count": 224,
   "id": "1b672c79",
   "metadata": {},
   "outputs": [],
   "source": [
    "asesinato_can=provincia_homicidios[provincia_homicidios['Tipo_muerte'].isin(['ASESINATO'])]['provincia'].tolist()\n",
    "femicidio_can=provincia_homicidios[provincia_homicidios['Tipo_muerte'].isin(['FEMICIDIO'])]['provincia'].tolist()\n",
    "homicidio_can=provincia_homicidios[provincia_homicidios['Tipo_muerte'].isin(['HOMICIDIO'])]['provincia'].tolist()\n",
    "sicariato_can=provincia_homicidios[provincia_homicidios['Tipo_muerte'].isin(['SICARIATO'])]['provincia'].tolist()\n"
   ]
  },
  {
   "cell_type": "code",
   "execution_count": 228,
   "id": "f93b6f2f",
   "metadata": {},
   "outputs": [],
   "source": [
    "v_canton=asesinato.append(sicariato)"
   ]
  },
  {
   "cell_type": "code",
   "execution_count": 232,
   "id": "b30b401f",
   "metadata": {},
   "outputs": [],
   "source": [
    "v_provi=asesinato_can.append(sicariato_can)"
   ]
  },
  {
   "cell_type": "code",
   "execution_count": 255,
   "id": "794fd7b2",
   "metadata": {},
   "outputs": [
    {
     "data": {
      "image/png": "[encoded data removed]",
      "text/plain": [
       "<Figure size 1296x1296 with 1 Axes>"
      ]
     },
     "metadata": {},
     "output_type": "display_data"
    }
   ],
   "source": [
    "\n",
    "Homicidios.groupby('provincia')['cantidad_homicidios'].sum().plot(kind='pie',figsize=(18,18),autopct='%.1f%%',fontsize='large')\n",
    "plt.title(\"Cantidad de Homicidios por provincias\", fontsize='x-large')\n",
    "plt.show()"
   ]
  },
  {
   "cell_type": "code",
   "execution_count": 264,
   "id": "b10664cd",
   "metadata": {},
   "outputs": [
    {
     "data": {
      "image/png": "[encoded data removed]",
      "text/plain": [
       "<Figure size 864x576 with 1 Axes>"
      ]
     },
     "metadata": {
      "needs_background": "light"
     },
     "output_type": "display_data"
    }
   ],
   "source": [
    "plt.figure(figsize=(12,8))\n",
    "Homicidios.groupby(['rango_edad'])['cantidad_homicidios'].sum().plot()\n",
    "plt.xlabel('Rango edad')\n",
    "plt.ylabel('Cantidad')\n",
    "plt.show()"
   ]
  },
  {
   "cell_type": "markdown",
   "id": "1eba488a",
   "metadata": {},
   "source": [
    "Après analyse du graphique, nous concluons qu'il y a plus des victimes chez les gens de 25 à 40 ans, . De même, le taux élevé des victimes dans la tranche d'âge des moins de 10 ans est étonnant, puisqu'il s'agit d'enfants."
   ]
  },
  {
   "cell_type": "code",
   "execution_count": null,
   "id": "409eb6ba",
   "metadata": {},
   "outputs": [],
   "source": []
  }
 ],
 "metadata": {
  "kernelspec": {
   "display_name": "Python 3 (ipykernel)",
   "language": "python",
   "name": "python3"
  },
  "language_info": {
   "codemirror_mode": {
    "name": "ipython",
    "version": 3
   },
   "file_extension": ".py",
   "mimetype": "text/x-python",
   "name": "python",
   "nbconvert_exporter": "python",
   "pygments_lexer": "ipython3",
   "version": "3.9.7"
  }
 },
 "nbformat": 4,
 "nbformat_minor": 5
}
